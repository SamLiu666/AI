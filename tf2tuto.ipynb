{
  "nbformat": 4,
  "nbformat_minor": 0,
  "metadata": {
    "colab": {
      "name": "tf2tuto.ipynb",
      "provenance": [],
      "collapsed_sections": [],
      "toc_visible": true,
      "authorship_tag": "ABX9TyMGwfhRiMq3fIq1e6IDQkdS",
      "include_colab_link": true
    },
    "kernelspec": {
      "name": "python3",
      "display_name": "Python 3"
    }
  },
  "cells": [
    {
      "cell_type": "markdown",
      "metadata": {
        "id": "view-in-github",
        "colab_type": "text"
      },
      "source": [
        "<a href=\"https://colab.research.google.com/github/SamLiu666/AI/blob/master/tf2tuto.ipynb\" target=\"_parent\"><img src=\"https://colab.research.google.com/assets/colab-badge.svg\" alt=\"Open In Colab\"/></a>"
      ]
    },
    {
      "cell_type": "markdown",
      "metadata": {
        "id": "TkP7VYd5Y-k1",
        "colab_type": "text"
      },
      "source": [
        "# fully-connected Network"
      ]
    },
    {
      "cell_type": "code",
      "metadata": {
        "id": "-J00ZZOQW2Az",
        "colab_type": "code",
        "colab": {}
      },
      "source": [
        "import os\n",
        "import tensorflow as tf\n",
        "from tensorflow import keras\n",
        "from tensorflow.keras import layers, optimizers, datasets"
      ],
      "execution_count": null,
      "outputs": []
    },
    {
      "cell_type": "code",
      "metadata": {
        "id": "p-cGXXdHY9ZB",
        "colab_type": "code",
        "colab": {}
      },
      "source": [
        "os.environ['TF_CPP_MIN_LOG_LEVEL'] = '2'  # or any {'0', '1', '2'}"
      ],
      "execution_count": null,
      "outputs": []
    },
    {
      "cell_type": "code",
      "metadata": {
        "id": "5Zh973jIZOgK",
        "colab_type": "code",
        "colab": {}
      },
      "source": [
        "def mnist_dataset():\n",
        "  (x, y), _ = datasets.mnist.load_data() # Tuple of Numpy arrays: `(x_train, y_train), (x_test, y_test)`\n",
        "  ds = tf.data.Dataset.from_tensor_slices((x,y))\n",
        "  ds = ds.map(prepare_mnist_features_and_labels)\n",
        "  ds = ds.take(20000).shuffle(20000).batch(100)\n",
        "  return ds\n",
        "\n",
        "def prepare_mnist_features_and_labels(x,y):\n",
        "  x = tf.cast(x, tf.float32)/255.0\n",
        "  y = tf.cast(y, tf.int64)\n",
        "  return x, y"
      ],
      "execution_count": null,
      "outputs": []
    },
    {
      "cell_type": "code",
      "metadata": {
        "id": "P_MnuIJ0aW-J",
        "colab_type": "code",
        "colab": {
          "base_uri": "https://localhost:8080/",
          "height": 286
        },
        "outputId": "40d1496f-0bff-4222-b94d-cb665ebc0b2e"
      },
      "source": [
        "model = keras.Sequential([\n",
        "    layers.Reshape(target_shape=(28*28,), input_shape=(28,28)),\n",
        "    layers.Dense(units=100,activation='relu'),\n",
        "    layers.Dense(units=100,activation='relu'),\n",
        "    layers.Dense(10)])\n",
        "\n",
        "optimizer = optimizers.Adam()\n",
        "model.summary()"
      ],
      "execution_count": null,
      "outputs": [
        {
          "output_type": "stream",
          "text": [
            "Model: \"sequential\"\n",
            "_________________________________________________________________\n",
            "Layer (type)                 Output Shape              Param #   \n",
            "=================================================================\n",
            "reshape (Reshape)            (None, 784)               0         \n",
            "_________________________________________________________________\n",
            "dense (Dense)                (None, 100)               78500     \n",
            "_________________________________________________________________\n",
            "dense_1 (Dense)              (None, 100)               10100     \n",
            "_________________________________________________________________\n",
            "dense_2 (Dense)              (None, 10)                1010      \n",
            "=================================================================\n",
            "Total params: 89,610\n",
            "Trainable params: 89,610\n",
            "Non-trainable params: 0\n",
            "_________________________________________________________________\n"
          ],
          "name": "stdout"
        }
      ]
    },
    {
      "cell_type": "code",
      "metadata": {
        "id": "a5v6QjGzbPQb",
        "colab_type": "code",
        "colab": {}
      },
      "source": [
        "@tf.function\n",
        "def compute_loss(logits, labels):\n",
        "  return tf.reduce_mean(tf.nn.sparse_softmax_cross_entropy_with_logits(\n",
        "      logits=logits, labels=labels\n",
        "  ))\n",
        "\n",
        "@tf.function\n",
        "def compute_accuracy(logits, labels):\n",
        "  predictions = tf.argmax(logits, axis=1)\n",
        "  return tf.reduce_mean(tf.cast(tf.equal(predictions, labels), tf.float32))\n",
        "\n",
        "@tf.function\n",
        "def train_one_step(model, optimizer, x, y):\n",
        "\n",
        "  with tf.GradientTape() as tape:\n",
        "    logits = model(x)\n",
        "    loss = compute_loss(logits, y)\n",
        "\n",
        "  # compute gradient\n",
        "  grads = tape.gradient(loss, model.trainable_variables)\n",
        "  # update to weights\n",
        "  optimizer.apply_gradients(zip(grads, model.trainable_variables))\n",
        "\n",
        "  accuracy = compute_accuracy(logits, y)\n",
        "\n",
        "  # loss and accuracy is scalar tensor\n",
        "  return loss, accuracy\n",
        "\n",
        "def train(epoch, model, optimizer):\n",
        "\n",
        "  train_ds = mnist_dataset()\n",
        "  loss = 0.0\n",
        "  accuracy = 0.0\n",
        "  for step, (x, y) in enumerate(train_ds):\n",
        "    loss, accuracy = train_one_step(model, optimizer, x, y)\n",
        "\n",
        "    if step % 500 == 0:\n",
        "      print('epoch', epoch, ': loss', loss.numpy(), '; accuracy', accuracy.numpy())\n",
        "\n",
        "  return loss, accuracy"
      ],
      "execution_count": null,
      "outputs": []
    },
    {
      "cell_type": "code",
      "metadata": {
        "id": "_SWEDUrBe4Oq",
        "colab_type": "code",
        "colab": {
          "base_uri": "https://localhost:8080/",
          "height": 370
        },
        "outputId": "021a344c-2787-47ea-c144-b42d5ffc8e2c"
      },
      "source": [
        "for epoch in range(20):\n",
        "  loss, accuracy = train(epoch, model, optimizer)\n",
        "\n",
        "print('Final epoch', epoch, ': loss', loss.numpy(), '; accuracy', accuracy.numpy())"
      ],
      "execution_count": null,
      "outputs": [
        {
          "output_type": "stream",
          "text": [
            "epoch 0 : loss 2.3244712 ; accuracy 0.09\n",
            "epoch 1 : loss 0.28798357 ; accuracy 0.91\n",
            "epoch 2 : loss 0.19936447 ; accuracy 0.95\n",
            "epoch 3 : loss 0.08297668 ; accuracy 0.98\n",
            "epoch 4 : loss 0.06563656 ; accuracy 0.98\n",
            "epoch 5 : loss 0.08349426 ; accuracy 0.97\n",
            "epoch 6 : loss 0.013548888 ; accuracy 1.0\n",
            "epoch 7 : loss 0.042788964 ; accuracy 0.99\n",
            "epoch 8 : loss 0.055909798 ; accuracy 0.99\n",
            "epoch 9 : loss 0.03208171 ; accuracy 0.99\n",
            "epoch 10 : loss 0.016497966 ; accuracy 1.0\n",
            "epoch 11 : loss 0.018052388 ; accuracy 1.0\n",
            "epoch 12 : loss 0.0054515842 ; accuracy 1.0\n",
            "epoch 13 : loss 0.0056006964 ; accuracy 1.0\n",
            "epoch 14 : loss 0.0038491108 ; accuracy 1.0\n",
            "epoch 15 : loss 0.0049080546 ; accuracy 1.0\n",
            "epoch 16 : loss 0.0028577477 ; accuracy 1.0\n",
            "epoch 17 : loss 0.0027239176 ; accuracy 1.0\n",
            "epoch 18 : loss 0.0072756577 ; accuracy 1.0\n",
            "epoch 19 : loss 0.0006254496 ; accuracy 1.0\n",
            "Final epoch 19 : loss 0.0065804925 ; accuracy 1.0\n"
          ],
          "name": "stdout"
        }
      ]
    },
    {
      "cell_type": "code",
      "metadata": {
        "id": "g5yz-iafe65d",
        "colab_type": "code",
        "colab": {}
      },
      "source": [
        ""
      ],
      "execution_count": null,
      "outputs": []
    }
  ]
}