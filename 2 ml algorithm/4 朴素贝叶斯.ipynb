{
 "cells": [
  {
   "cell_type": "code",
   "execution_count": 3,
   "metadata": {},
   "outputs": [
    {
     "data": {
      "image/png": "[encoded data removed]",
      "text/plain": [
       "<Figure size 432x288 with 1 Axes>"
      ]
     },
     "metadata": {},
     "output_type": "display_data"
    }
   ],
   "source": [
    "import numpy as np\n",
    "from scipy.stats import norm\n",
    "import matplotlib.pyplot as plt\n",
    "import seaborn as sns\n",
    "\n",
    "# Create a bell curve plot using numpy and stats\n",
    "x = np.linspace(norm.ppf(0.01), norm.ppf(0.99), 100)\n",
    "sns.set_style(\"darkgrid\")\n",
    "plt.plot(x, norm.pdf(x))\n",
    "\n",
    "# Remove ticks from the plot\n",
    "plt.xticks([])\n",
    "plt.yticks([])\n",
    "plt.title(\"bell curve\")\n",
    "\n",
    "plt.tight_layout()\n",
    "plt.show()"
   ]
  },
  {
   "cell_type": "markdown",
   "metadata": {},
   "source": [
    "# bernouli"
   ]
  },
  {
   "cell_type": "code",
   "execution_count": 7,
   "metadata": {},
   "outputs": [
    {
     "name": "stdout",
     "output_type": "stream",
     "text": [
      "Our data set represents things that are and aren't ducks.\n",
      "\n",
      "We have trained a Bernoulli model on our data set.\n",
      "\n",
      "Let's consider a new input that:\n",
      "   Walks like a duck\n",
      "   Talks like a duck\n",
      "   Is large\n",
      "\n",
      "What does our model think this should be?\n",
      "Answer: Duck!\n"
     ]
    }
   ],
   "source": [
    "from sklearn.naive_bayes import BernoulliNB\n",
    "\n",
    "# The features in X are broken down as follows:\n",
    "# [Walks like a duck, Talks like a duck, Is small]\n",
    "#\n",
    "# Walks like a duck: 0 = False, 1 = True\n",
    "# Talks like a duck: 0 = False, 1 = True\n",
    "# Is small: 0 = False, 1 = True\n",
    "\n",
    "# Some data is created to train with\n",
    "X = np.array([[1, 1, 0], [0, 0, 1], [1, 0, 0]])\n",
    "# These are our target values (Classes: Duck or Not a duck)\n",
    "y = np.array(['Duck', 'Not a Duck', 'Not a Duck'])\n",
    "\n",
    "# This is the code we need for the Bernoulli model\n",
    "clf = BernoulliNB()\n",
    "# We train the model on our data\n",
    "clf.fit(X, y)\n",
    "\n",
    "# Now we can make a prediction on what class new data belongs to\n",
    "print(\"Our data set represents things that are and aren't ducks.\\n\")\n",
    "print(\"We have trained a Bernoulli model on our data set.\\n\")\n",
    "print((\"Let's consider a new input that:\\n\"\n",
    "       \"   Walks like a duck\\n\"\n",
    "       \"   Talks like a duck\\n\"\n",
    "       \"   Is large\\n\"))\n",
    "print(\"What does our model think this should be?\")\n",
    "print(\"Answer: %s!\" % clf.predict([[1, 1, 1]])[0])"
   ]
  },
  {
   "cell_type": "markdown",
   "metadata": {},
   "source": [
    "# Gaussian"
   ]
  },
  {
   "cell_type": "code",
   "execution_count": 5,
   "metadata": {},
   "outputs": [
    {
     "name": "stdout",
     "output_type": "stream",
     "text": [
      "Our data set represents RGB triples and their associated colors.\n",
      "\n",
      "We have trained a Gaussian model on our data set.\n",
      "\n",
      "Let's consider a new input with 100% red, 0% green, and 100% blue.\n",
      "\n",
      "What color does our model think this should be?\n",
      "Answer: Purple!\n"
     ]
    }
   ],
   "source": [
    "from sklearn.naive_bayes import GaussianNB\n",
    "\n",
    "# The features in X are broken down as follows:\n",
    "# [Red %, Green %, Blue %]\n",
    "\n",
    "# Some data is created to train with\n",
    "X = np.array([[.5, 0, .5], [1, 1, 0], [0, 0, 0]])\n",
    "# These are our target values (Classes: Purple, Yellow, or Black)\n",
    "y = np.array(['Purple', 'Yellow', 'Black'])\n",
    "\n",
    "# This is the code we need for the Gaussian model\n",
    "clf = GaussianNB()\n",
    "# We train the model on our data\n",
    "clf.fit(X, y)\n",
    "\n",
    "# Now we can make a prediction on what class new data belongs to\n",
    "print(\"Our data set represents RGB triples and their associated colors.\\n\")\n",
    "print(\"We have trained a Gaussian model on our data set.\\n\")\n",
    "print(\"Let's consider a new input with 100% red, 0% green, and 100% blue.\\n\")\n",
    "print(\"What color does our model think this should be?\")\n",
    "print(\"Answer: %s!\" % clf.predict([[1, 0, 1]])[0])"
   ]
  },
  {
   "cell_type": "markdown",
   "metadata": {},
   "source": [
    "# multional"
   ]
  },
  {
   "cell_type": "code",
   "execution_count": 9,
   "metadata": {},
   "outputs": [
    {
     "name": "stdout",
     "output_type": "stream",
     "text": [
      "Our data set represents fruits and their characteristics.\n",
      "\n",
      "We have trained a Multinomial model on our data set.\n",
      "\n",
      "Let's consider a new input that is moderately sized, heavy, and red.\n",
      "\n",
      "What fruit does our model think this should be?\n",
      "Answer: Apple!\n"
     ]
    }
   ],
   "source": [
    "import numpy as np\n",
    "from sklearn.naive_bayes import MultinomialNB\n",
    "\n",
    "# The features in X are broken down as follows:\n",
    "# [Size, Weight, Color]\n",
    "#\n",
    "# Size: 0 = Small, 1 = Moderate, 2 = Large\n",
    "# Weight: 0 = Light, 1 = Moderate, 2 = Heavy\n",
    "# Color: 0 = Red, 1 = Blue, 2 = Brown\n",
    "\n",
    "# Some data is created to train with\n",
    "X = np.array([[1, 1, 0], [0, 0, 1], [2, 2, 2]])\n",
    "# These are our target values (Classes: Apple, Blueberry, or Coconut)\n",
    "y = np.array(['Apple', 'Blueberry', 'Coconut'])\n",
    "\n",
    "# This is the code we need for the Multinomial model\n",
    "clf = MultinomialNB()\n",
    "# We train the model on our data\n",
    "clf.fit(X, y)\n",
    "\n",
    "# Now we can make a prediction on what class new data belongs to\n",
    "print(\"Our data set represents fruits and their characteristics.\\n\")\n",
    "print(\"We have trained a Multinomial model on our data set.\\n\")\n",
    "print(\"Let's consider a new input that is moderately sized, heavy, and red.\\n\")\n",
    "print(\"What fruit does our model think this should be?\")\n",
    "print(\"Answer: %s!\" % clf.predict([[1, 2, 0]])[0])"
   ]
  }
 ],
 "metadata": {
  "kernelspec": {
   "display_name": "Python 3",
   "language": "python",
   "name": "python3"
  },
  "language_info": {
   "codemirror_mode": {
    "name": "ipython",
    "version": 3
   },
   "file_extension": ".py",
   "mimetype": "text/x-python",
   "name": "python",
   "nbconvert_exporter": "python",
   "pygments_lexer": "ipython3",
   "version": "3.7.7"
  }
 },
 "nbformat": 4,
 "nbformat_minor": 4
}
