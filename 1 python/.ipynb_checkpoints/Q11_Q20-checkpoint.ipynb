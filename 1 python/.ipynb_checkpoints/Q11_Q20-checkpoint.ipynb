{
 "cells": [
  {
   "cell_type": "markdown",
   "metadata": {},
   "source": [
    "Question 11:\n",
    "Write a program which accepts a sequence of comma separated 4 digit binary numbers as its input and then check whether they are divisible by 5 or not. The numbers that are divisible by 5 are to be printed in a comma separated sequence.\n",
    "\n",
    "Example:\n",
    "0100,0011,1010,1001\n",
    "\n",
    "Then the output should be:\n",
    "\n",
    "1010\n",
    "Notes: Assume the data is input by console."
   ]
  },
  {
   "cell_type": "code",
   "execution_count": 3,
   "metadata": {},
   "outputs": [
    {
     "name": "stdout",
     "output_type": "stream",
     "text": [
      "Enter: 0100,0011,1010,1001\n",
      "1010\n"
     ]
    }
   ],
   "source": [
    "numbers = input(\"Enter: \")\n",
    "numbers = [x for x in numbers.split(\",\")]\n",
    "ans = []\n",
    "for n in numbers:\n",
    "    intp = int(n, 2)\n",
    "    if intp%5==0:\n",
    "       ans.append(n)\n",
    "print(\",\".join(ans))"
   ]
  },
  {
   "cell_type": "markdown",
   "metadata": {},
   "source": [
    "### Question 12\n",
    "\n",
    "Level 2\n",
    "\n",
    "Question:\n",
    "Write a program, which will find all such numbers between 1000 and 3000 (both included) such that each digit of the number is an even number.\n",
    "The numbers obtained should be printed in a comma-separated sequence on a single line."
   ]
  },
  {
   "cell_type": "code",
   "execution_count": 7,
   "metadata": {},
   "outputs": [
    {
     "name": "stdout",
     "output_type": "stream",
     "text": [
      "[2, 0, 0, 0],[2, 0, 0, 2],[2, 0, 0, 4],[2, 0, 0, 6],[2, 0, 0, 8],[2, 0, 2, 0],[2, 0, 2, 2],[2, 0, 2, 4],[2, 0, 2, 6],[2, 0, 2, 8],[2, 0, 4, 0],[2, 0, 4, 2],[2, 0, 4, 4],[2, 0, 4, 6],[2, 0, 4, 8],[2, 0, 6, 0],[2, 0, 6, 2],[2, 0, 6, 4],[2, 0, 6, 6],[2, 0, 6, 8],[2, 0, 8, 0],[2, 0, 8, 2],[2, 0, 8, 4],[2, 0, 8, 6],[2, 0, 8, 8],[2, 2, 0, 0],[2, 2, 0, 2],[2, 2, 0, 4],[2, 2, 0, 6],[2, 2, 0, 8],[2, 2, 2, 0],[2, 2, 2, 2],[2, 2, 2, 4],[2, 2, 2, 6],[2, 2, 2, 8],[2, 2, 4, 0],[2, 2, 4, 2],[2, 2, 4, 4],[2, 2, 4, 6],[2, 2, 4, 8],[2, 2, 6, 0],[2, 2, 6, 2],[2, 2, 6, 4],[2, 2, 6, 6],[2, 2, 6, 8],[2, 2, 8, 0],[2, 2, 8, 2],[2, 2, 8, 4],[2, 2, 8, 6],[2, 2, 8, 8],[2, 4, 0, 0],[2, 4, 0, 2],[2, 4, 0, 4],[2, 4, 0, 6],[2, 4, 0, 8],[2, 4, 2, 0],[2, 4, 2, 2],[2, 4, 2, 4],[2, 4, 2, 6],[2, 4, 2, 8],[2, 4, 4, 0],[2, 4, 4, 2],[2, 4, 4, 4],[2, 4, 4, 6],[2, 4, 4, 8],[2, 4, 6, 0],[2, 4, 6, 2],[2, 4, 6, 4],[2, 4, 6, 6],[2, 4, 6, 8],[2, 4, 8, 0],[2, 4, 8, 2],[2, 4, 8, 4],[2, 4, 8, 6],[2, 4, 8, 8],[2, 6, 0, 0],[2, 6, 0, 2],[2, 6, 0, 4],[2, 6, 0, 6],[2, 6, 0, 8],[2, 6, 2, 0],[2, 6, 2, 2],[2, 6, 2, 4],[2, 6, 2, 6],[2, 6, 2, 8],[2, 6, 4, 0],[2, 6, 4, 2],[2, 6, 4, 4],[2, 6, 4, 6],[2, 6, 4, 8],[2, 6, 6, 0],[2, 6, 6, 2],[2, 6, 6, 4],[2, 6, 6, 6],[2, 6, 6, 8],[2, 6, 8, 0],[2, 6, 8, 2],[2, 6, 8, 4],[2, 6, 8, 6],[2, 6, 8, 8],[2, 8, 0, 0],[2, 8, 0, 2],[2, 8, 0, 4],[2, 8, 0, 6],[2, 8, 0, 8],[2, 8, 2, 0],[2, 8, 2, 2],[2, 8, 2, 4],[2, 8, 2, 6],[2, 8, 2, 8],[2, 8, 4, 0],[2, 8, 4, 2],[2, 8, 4, 4],[2, 8, 4, 6],[2, 8, 4, 8],[2, 8, 6, 0],[2, 8, 6, 2],[2, 8, 6, 4],[2, 8, 6, 6],[2, 8, 6, 8],[2, 8, 8, 0],[2, 8, 8, 2],[2, 8, 8, 4],[2, 8, 8, 6],[2, 8, 8, 8]\n"
     ]
    }
   ],
   "source": [
    "def helper(x):\n",
    "    for i in x:\n",
    "        if i%2 != 0:\n",
    "            return False\n",
    "    return True\n",
    "\n",
    "ans = []\n",
    "for i in range(1000,3001):\n",
    "    s = str(i)\n",
    "    i = [int(x) for x in s]\n",
    "    if helper(i):\n",
    "        ans.append(str(i))\n",
    "        \n",
    "print(\",\".join(ans))"
   ]
  },
  {
   "cell_type": "markdown",
   "metadata": {},
   "source": [
    "### Question 13\n",
    "\n",
    "Level 2\n",
    "\n",
    "Question:\n",
    "Write a program that accepts a sentence and calculate the number of letters and digits.\n",
    "Suppose the following input is supplied to the program:\n",
    "hello world! 123\n",
    "Then, the output should be:\n",
    "LETTERS 10\n",
    "DIGITS 3\n",
    "\n",
    "Hints:"
   ]
  },
  {
   "cell_type": "code",
   "execution_count": 15,
   "metadata": {},
   "outputs": [
    {
     "name": "stdout",
     "output_type": "stream",
     "text": [
      "Enter: \n",
      "hello world! 123 Then, the output should be: LETTERS 10 DIGITS 3\n",
      "LETTERS 44 DIGITS 6\n",
      "LETTERS 44 DIGITS 6\n"
     ]
    }
   ],
   "source": [
    "sentence = input(\"Enter: \\n\")\n",
    "letters, digits = 0, 0\n",
    "for s in sentence:\n",
    "    if s.isalpha():\n",
    "        letters += 1\n",
    "    if s.isdigit():\n",
    "        digits += 1\n",
    "    else:\n",
    "        pass\n",
    "print(\"LETTERS %d DIGITS %d\" % (letters, digits))\n",
    "\n",
    "def dic_solution(sentence):\n",
    "    d = {\"LETTERS\":0, \"DIGITS\":0}\n",
    "    for s in sentence:\n",
    "        if s.isalpha():\n",
    "            d[\"LETTERS\"] += 1\n",
    "        if s.isdigit():\n",
    "            d[\"DIGITS\"] += 1\n",
    "        else:\n",
    "            pass\n",
    "    print(\"LETTERS %d DIGITS %d\" % (d[\"LETTERS\"], d[\"DIGITS\"]))\n",
    "    \n",
    "dic_solution(sentence)"
   ]
  },
  {
   "cell_type": "markdown",
   "metadata": {},
   "source": [
    "### Question 14\n",
    "\n",
    "Level 2\n",
    "\n",
    "Question:\n",
    "Write a program that accepts a sentence and calculate the number of upper case letters and lower case letters.\n",
    "Suppose the following input is supplied to the program:\n",
    "Hello world!\n",
    "Then, the output should be:\n",
    "UPPER CASE 1\n",
    "LOWER CASE 9"
   ]
  },
  {
   "cell_type": "code",
   "execution_count": 21,
   "metadata": {},
   "outputs": [
    {
     "name": "stdout",
     "output_type": "stream",
     "text": [
      "Enter: \n",
      "Hello world!\n",
      "UPPER CASE 1 LOWER CASE 9\n"
     ]
    }
   ],
   "source": [
    "def solution_14():\n",
    "    sentence = input(\"Enter: \\n\")\n",
    "    d = {\"LETTERS\":0, \"DIGITS\":0}\n",
    "    for s in sentence:\n",
    "        if s.isupper():\n",
    "            d[\"LETTERS\"] += 1\n",
    "        if s.islower():\n",
    "            d[\"DIGITS\"] += 1\n",
    "        else:\n",
    "            pass\n",
    "    print(\"UPPER CASE %d LOWER CASE %d\" % (d[\"LETTERS\"], d[\"DIGITS\"]))\n",
    "solution_14()"
   ]
  },
  {
   "cell_type": "code",
   "execution_count": null,
   "metadata": {},
   "outputs": [],
   "source": []
  },
  {
   "cell_type": "code",
   "execution_count": null,
   "metadata": {},
   "outputs": [],
   "source": []
  }
 ],
 "metadata": {
  "kernelspec": {
   "display_name": "Python 3",
   "language": "python",
   "name": "python3"
  },
  "language_info": {
   "codemirror_mode": {
    "name": "ipython",
    "version": 3
   },
   "file_extension": ".py",
   "mimetype": "text/x-python",
   "name": "python",
   "nbconvert_exporter": "python",
   "pygments_lexer": "ipython3",
   "version": "3.7.3"
  }
 },
 "nbformat": 4,
 "nbformat_minor": 2
}
