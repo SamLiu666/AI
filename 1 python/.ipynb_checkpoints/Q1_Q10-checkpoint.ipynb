{
 "cells": [
  {
   "cell_type": "code",
   "execution_count": 1,
   "metadata": {},
   "outputs": [
    {
     "name": "stdout",
     "output_type": "stream",
     "text": [
      "Q3: 4\n",
      "ans:  {1: 1, 2: 4, 3: 9, 4: 16}\n"
     ]
    }
   ],
   "source": [
    "def q1(x):\n",
    "    # 1.找到 2000~3200之间 7 的除数，不能除尽5 的数\n",
    "    def helper(n):\n",
    "        if n % 7==0 and n%5 != 0:\n",
    "            return True\n",
    "        else:\n",
    "            return False\n",
    "    ans = []\n",
    "    for n in x:\n",
    "        if helper(n):\n",
    "            ans.append(n)\n",
    "    return ans\n",
    "\n",
    "\n",
    "# ans = q1(range(2000,3200))\n",
    "# print(ans)\n",
    "\n",
    "\n",
    "def q2(n):\n",
    "    # 2. 输入一个数n，输出n 的阶乘\n",
    "    if n==0:\n",
    "        return 1\n",
    "    return n*q2(n-1)\n",
    "\n",
    "# x=int(input(\"Enter number: \"))\n",
    "# print(\"%d!=%d\"%(x,q2(x)))\n",
    "\n",
    "\n",
    "def q3(n):\n",
    "    # 3.输入一个整数n，输出字典{n:n^2}\n",
    "    if n<1:\n",
    "        return \"请输入大于等于1的整数\"\n",
    "    ans = {}\n",
    "    for i in range(1,n+1):\n",
    "        ans[i] = i**2\n",
    "    return ans\n",
    "\n",
    "x=int(input(\"Q3: \"))\n",
    "print(\"ans: \",q3(x))\n"
   ]
  },
  {
   "cell_type": "markdown",
   "metadata": {},
   "source": [
    "### Question 4\n",
    "\n",
    "Level 1\n",
    "\n",
    "Question:\n",
    "Write a program which accepts a sequence of comma-separated numbers from console and generate a list and a tuple which contains every number.\n",
    "Suppose the following input is supplied to the program:\n",
    "34,67,55,33,12,98\n",
    "Then, the output should be:\n",
    "\n",
    "['34', '67', '55', '33', '12', '98']\n",
    "\n",
    "('34', '67', '55', '33', '12', '98')"
   ]
  },
  {
   "cell_type": "code",
   "execution_count": 4,
   "metadata": {},
   "outputs": [
    {
     "name": "stdout",
     "output_type": "stream",
     "text": [
      "请输入数据：34,67,55,33,12,98\n",
      "['34', '67', '55', '33', '12', '98']\n",
      "('34', '67', '55', '33', '12', '98')\n"
     ]
    }
   ],
   "source": [
    "x = input(\"请输入数据：\")\n",
    "l = x.split(\",\")\n",
    "t = tuple(l)\n",
    "print(l)\n",
    "print(t)"
   ]
  },
  {
   "cell_type": "markdown",
   "metadata": {},
   "source": [
    "### Question 5\n",
    "\n",
    "Level 1\n",
    "\n",
    "Question:\n",
    "Define a class which has at least two methods:\n",
    "getString: to get a string from console input\n",
    "printString: to print the string in upper case.\n",
    "Also please include simple test function to test the class methods"
   ]
  },
  {
   "cell_type": "code",
   "execution_count": 6,
   "metadata": {},
   "outputs": [
    {
     "name": "stdout",
     "output_type": "stream",
     "text": [
      "请输入字符串: \n",
      "vkzudghr.99fdnss\n",
      "VKZUDGHR.99FDNSS\n"
     ]
    }
   ],
   "source": [
    "class q5:\n",
    "    def __init__(self):\n",
    "        self.s = \"\"\n",
    "        \n",
    "    def getString(self):\n",
    "        self.s = input(\"请输入字符串: \\n\")\n",
    "        \n",
    "    def printString(self):\n",
    "        print(self.s.upper())\n",
    "\n",
    "q = q5()\n",
    "q.getString()\n",
    "q.printString()"
   ]
  },
  {
   "cell_type": "markdown",
   "metadata": {},
   "source": [
    "### Question 6\n",
    "\n",
    "Level 2\n",
    "\n",
    "Question:\n",
    "Write a program that calculates and prints the value according to the given formula:\n",
    "Q = Square root of [(2 * C * D)/H]\n",
    "Following are the fixed values of C and H:\n",
    "C is 50. H is 30.\n",
    "D is the variable whose values should be input to your program in a comma-separated sequence.\n",
    "Example\n",
    "Let us assume the following comma separated input sequence is given to the program:\n",
    "100,150,180\n",
    "The output of the program should be:\n",
    "18,22,24"
   ]
  },
  {
   "cell_type": "code",
   "execution_count": 11,
   "metadata": {},
   "outputs": [
    {
     "name": "stdout",
     "output_type": "stream",
     "text": [
      "Number: 100,150,180\n",
      "[18.257418583505537, 22.360679774997898, 24.49489742783178]\n"
     ]
    }
   ],
   "source": [
    "import math\n",
    "C, H = 50, 30\n",
    "D = input(\"Number: \")\n",
    "D = D.split(\",\")\n",
    "def q6(x):\n",
    "    ans = []\n",
    "    for n in x:\n",
    "        d = int(n)\n",
    "        ans.append(math.sqrt(2*C*d/H))\n",
    "    return ans\n",
    "ans = q6(D)\n",
    "print(ans)"
   ]
  },
  {
   "cell_type": "markdown",
   "metadata": {},
   "source": [
    "### Question 7\n",
    "\n",
    "Level 2\n",
    "\n",
    "Question:\n",
    "Write a program which takes 2 digits, X,Y as input and generates a 2-dimensional array. The element value in the i-th row and j-th column of the array should be i*j.\n",
    "Note: i=0,1.., X-1; j=0,1,¡­Y-1.\n",
    "Example\n",
    "Suppose the following inputs are given to the program:\n",
    "3,5\n",
    "Then, the output of the program should be:\n",
    "[[0, 0, 0, 0, 0], [0, 1, 2, 3, 4], [0, 2, 4, 6, 8]] \n"
   ]
  },
  {
   "cell_type": "code",
   "execution_count": 12,
   "metadata": {},
   "outputs": [
    {
     "name": "stdout",
     "output_type": "stream",
     "text": [
      "Enter row and column: 3,5\n",
      "[[0, 0, 0, 0, 0], [0, 1, 2, 3, 4], [0, 2, 4, 6, 8]]\n"
     ]
    }
   ],
   "source": [
    "s = input(\"Enter row and column: \")\n",
    "row, col = [int(x) for x in s.split(\",\")]\n",
    "matrix = [[0 for i in range(col)] for j in range(row)]\n",
    "for i in range(row):\n",
    "    for j in range(col):\n",
    "        matrix[i][j] = i*j\n",
    "print(matrix)"
   ]
  },
  {
   "cell_type": "markdown",
   "metadata": {},
   "source": [
    "### Question 8\n",
    "\n",
    "Level 2\n",
    "\n",
    "Question:\n",
    "Write a program that accepts a comma separated sequence of words as input and prints the words in a comma-separated sequence after sorting them alphabetically.\n",
    "Suppose the following input is supplied to the program:\n",
    "without,hello,bag,world\n",
    "Then, the output should be:\n",
    "bag,hello,without,world"
   ]
  },
  {
   "cell_type": "code",
   "execution_count": 16,
   "metadata": {},
   "outputs": [
    {
     "name": "stdout",
     "output_type": "stream",
     "text": [
      "Enter Your words(',' split): \n",
      "without,hello,bag,world,another\n",
      "another,bag,hello,without,world\n"
     ]
    }
   ],
   "source": [
    "s = input(\"Enter Your words(',' split): \\n\")\n",
    "s_in = s.split(\",\")\n",
    "s_in.sort()\n",
    "print(\",\".join(s_in))"
   ]
  },
  {
   "cell_type": "markdown",
   "metadata": {},
   "source": [
    "### Question 9\n",
    "\n",
    "Level 2\n",
    "\n",
    "Question£º\n",
    "Write a program that accepts sequence of lines as input and prints the lines after making all characters in the sentence capitalized.\n",
    "Suppose the following input is supplied to the program:\n",
    "Hello world\n",
    "Practice makes perfect\n",
    "Then, the output should be:\n",
    "HELLO WORLD\n",
    "PRACTICE MAKES PERFECT"
   ]
  },
  {
   "cell_type": "code",
   "execution_count": 2,
   "metadata": {},
   "outputs": [
    {
     "name": "stdout",
     "output_type": "stream",
     "text": [
      "Enter Word:\n",
      "Hello world Practice makes perfect\n",
      "['HELLO', 'WORLD', 'PRACTICE', 'MAKES', 'PERFECT'] \n",
      " HELLO WORLD PRACTICE MAKES PERFECT\n"
     ]
    }
   ],
   "source": [
    "s_in = input(\"Enter Word:\\n\")\n",
    "s_out = [word.upper() for word in s_in.split(\" \")]\n",
    "s_final = \" \".join(s_out)\n",
    "print(s_out,\"\\n\", s_final)"
   ]
  },
  {
   "cell_type": "markdown",
   "metadata": {},
   "source": [
    "### Question 10\n",
    "\n",
    "Level 2\n",
    "\n",
    "Question:\n",
    "Write a program that accepts a sequence of whitespace separated words as input and prints the words after removing all duplicate words and sorting them alphanumerically.\n",
    "Suppose the following input is supplied to the program:\n",
    "hello world and practice makes perfect and hello world again\n",
    "Then, the output should be:\n",
    "again and hello makes perfect practice world"
   ]
  },
  {
   "cell_type": "code",
   "execution_count": 7,
   "metadata": {},
   "outputs": [
    {
     "name": "stdout",
     "output_type": "stream",
     "text": [
      "Enter Your Sentence:\n",
      "hello world and practice makes perfect and hello world again\n",
      "again and hello makes perfect practice world\n"
     ]
    }
   ],
   "source": [
    "s_in = input(\"Enter Your Sentence:\\n\")\n",
    "s_out = list(set(s_in.split(\" \")))\n",
    "s_out.sort()\n",
    "print(\" \".join(s_out))"
   ]
  },
  {
   "cell_type": "code",
   "execution_count": null,
   "metadata": {},
   "outputs": [],
   "source": []
  }
 ],
 "metadata": {
  "kernelspec": {
   "display_name": "Python 3",
   "language": "python",
   "name": "python3"
  },
  "language_info": {
   "codemirror_mode": {
    "name": "ipython",
    "version": 3
   },
   "file_extension": ".py",
   "mimetype": "text/x-python",
   "name": "python",
   "nbconvert_exporter": "python",
   "pygments_lexer": "ipython3",
   "version": "3.7.3"
  }
 },
 "nbformat": 4,
 "nbformat_minor": 2
}
