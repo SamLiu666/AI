{
 "cells": [
  {
   "cell_type": "markdown",
   "metadata": {},
   "source": [
    "Question 11:\n",
    "Write a program which accepts a sequence of comma separated 4 digit binary numbers as its input and then check whether they are divisible by 5 or not. The numbers that are divisible by 5 are to be printed in a comma separated sequence.\n",
    "\n",
    "Example:\n",
    "0100,0011,1010,1001\n",
    "\n",
    "Then the output should be:\n",
    "\n",
    "1010\n",
    "Notes: Assume the data is input by console."
   ]
  },
  {
   "cell_type": "code",
   "execution_count": 3,
   "metadata": {},
   "outputs": [
    {
     "name": "stdout",
     "output_type": "stream",
     "text": [
      "Enter: 0100,0011,1010,1001\n",
      "1010\n"
     ]
    }
   ],
   "source": [
    "numbers = input(\"Enter: \")\n",
    "numbers = [x for x in numbers.split(\",\")]\n",
    "ans = []\n",
    "for n in numbers:\n",
    "    intp = int(n, 2)\n",
    "    if intp%5==0:\n",
    "       ans.append(n)\n",
    "print(\",\".join(ans))"
   ]
  },
  {
   "cell_type": "markdown",
   "metadata": {},
   "source": [
    "### Question 12\n",
    "\n",
    "Level 2\n",
    "\n",
    "Question:\n",
    "Write a program, which will find all such numbers between 1000 and 3000 (both included) such that each digit of the number is an even number.\n",
    "The numbers obtained should be printed in a comma-separated sequence on a single line."
   ]
  },
  {
   "cell_type": "code",
   "execution_count": 7,
   "metadata": {},
   "outputs": [
    {
     "name": "stdout",
     "output_type": "stream",
     "text": [
      "[2, 0, 0, 0],[2, 0, 0, 2],[2, 0, 0, 4],[2, 0, 0, 6],[2, 0, 0, 8],[2, 0, 2, 0],[2, 0, 2, 2],[2, 0, 2, 4],[2, 0, 2, 6],[2, 0, 2, 8],[2, 0, 4, 0],[2, 0, 4, 2],[2, 0, 4, 4],[2, 0, 4, 6],[2, 0, 4, 8],[2, 0, 6, 0],[2, 0, 6, 2],[2, 0, 6, 4],[2, 0, 6, 6],[2, 0, 6, 8],[2, 0, 8, 0],[2, 0, 8, 2],[2, 0, 8, 4],[2, 0, 8, 6],[2, 0, 8, 8],[2, 2, 0, 0],[2, 2, 0, 2],[2, 2, 0, 4],[2, 2, 0, 6],[2, 2, 0, 8],[2, 2, 2, 0],[2, 2, 2, 2],[2, 2, 2, 4],[2, 2, 2, 6],[2, 2, 2, 8],[2, 2, 4, 0],[2, 2, 4, 2],[2, 2, 4, 4],[2, 2, 4, 6],[2, 2, 4, 8],[2, 2, 6, 0],[2, 2, 6, 2],[2, 2, 6, 4],[2, 2, 6, 6],[2, 2, 6, 8],[2, 2, 8, 0],[2, 2, 8, 2],[2, 2, 8, 4],[2, 2, 8, 6],[2, 2, 8, 8],[2, 4, 0, 0],[2, 4, 0, 2],[2, 4, 0, 4],[2, 4, 0, 6],[2, 4, 0, 8],[2, 4, 2, 0],[2, 4, 2, 2],[2, 4, 2, 4],[2, 4, 2, 6],[2, 4, 2, 8],[2, 4, 4, 0],[2, 4, 4, 2],[2, 4, 4, 4],[2, 4, 4, 6],[2, 4, 4, 8],[2, 4, 6, 0],[2, 4, 6, 2],[2, 4, 6, 4],[2, 4, 6, 6],[2, 4, 6, 8],[2, 4, 8, 0],[2, 4, 8, 2],[2, 4, 8, 4],[2, 4, 8, 6],[2, 4, 8, 8],[2, 6, 0, 0],[2, 6, 0, 2],[2, 6, 0, 4],[2, 6, 0, 6],[2, 6, 0, 8],[2, 6, 2, 0],[2, 6, 2, 2],[2, 6, 2, 4],[2, 6, 2, 6],[2, 6, 2, 8],[2, 6, 4, 0],[2, 6, 4, 2],[2, 6, 4, 4],[2, 6, 4, 6],[2, 6, 4, 8],[2, 6, 6, 0],[2, 6, 6, 2],[2, 6, 6, 4],[2, 6, 6, 6],[2, 6, 6, 8],[2, 6, 8, 0],[2, 6, 8, 2],[2, 6, 8, 4],[2, 6, 8, 6],[2, 6, 8, 8],[2, 8, 0, 0],[2, 8, 0, 2],[2, 8, 0, 4],[2, 8, 0, 6],[2, 8, 0, 8],[2, 8, 2, 0],[2, 8, 2, 2],[2, 8, 2, 4],[2, 8, 2, 6],[2, 8, 2, 8],[2, 8, 4, 0],[2, 8, 4, 2],[2, 8, 4, 4],[2, 8, 4, 6],[2, 8, 4, 8],[2, 8, 6, 0],[2, 8, 6, 2],[2, 8, 6, 4],[2, 8, 6, 6],[2, 8, 6, 8],[2, 8, 8, 0],[2, 8, 8, 2],[2, 8, 8, 4],[2, 8, 8, 6],[2, 8, 8, 8]\n"
     ]
    }
   ],
   "source": [
    "def helper(x):\n",
    "    for i in x:\n",
    "        if i%2 != 0:\n",
    "            return False\n",
    "    return True\n",
    "\n",
    "ans = []\n",
    "for i in range(1000,3001):\n",
    "    s = str(i)\n",
    "    i = [int(x) for x in s]\n",
    "    if helper(i):\n",
    "        ans.append(str(i))\n",
    "        \n",
    "print(\",\".join(ans))"
   ]
  },
  {
   "cell_type": "markdown",
   "metadata": {},
   "source": [
    "### Question 13\n",
    "\n",
    "Level 2\n",
    "\n",
    "Question:\n",
    "Write a program that accepts a sentence and calculate the number of letters and digits.\n",
    "Suppose the following input is supplied to the program:\n",
    "hello world! 123\n",
    "Then, the output should be:\n",
    "LETTERS 10\n",
    "DIGITS 3\n",
    "\n",
    "Hints:"
   ]
  },
  {
   "cell_type": "code",
   "execution_count": 15,
   "metadata": {},
   "outputs": [
    {
     "name": "stdout",
     "output_type": "stream",
     "text": [
      "Enter: \n",
      "hello world! 123 Then, the output should be: LETTERS 10 DIGITS 3\n",
      "LETTERS 44 DIGITS 6\n",
      "LETTERS 44 DIGITS 6\n"
     ]
    }
   ],
   "source": [
    "sentence = input(\"Enter: \\n\")\n",
    "letters, digits = 0, 0\n",
    "for s in sentence:\n",
    "    if s.isalpha():\n",
    "        letters += 1\n",
    "    if s.isdigit():\n",
    "        digits += 1\n",
    "    else:\n",
    "        pass\n",
    "print(\"LETTERS %d DIGITS %d\" % (letters, digits))\n",
    "\n",
    "def dic_solution(sentence):\n",
    "    d = {\"LETTERS\":0, \"DIGITS\":0}\n",
    "    for s in sentence:\n",
    "        if s.isalpha():\n",
    "            d[\"LETTERS\"] += 1\n",
    "        if s.isdigit():\n",
    "            d[\"DIGITS\"] += 1\n",
    "        else:\n",
    "            pass\n",
    "    print(\"LETTERS %d DIGITS %d\" % (d[\"LETTERS\"], d[\"DIGITS\"]))\n",
    "    \n",
    "dic_solution(sentence)"
   ]
  },
  {
   "cell_type": "markdown",
   "metadata": {},
   "source": [
    "### Question 14\n",
    "\n",
    "Level 2\n",
    "\n",
    "Question:\n",
    "Write a program that accepts a sentence and calculate the number of upper case letters and lower case letters.\n",
    "Suppose the following input is supplied to the program:\n",
    "Hello world!\n",
    "Then, the output should be:\n",
    "UPPER CASE 1\n",
    "LOWER CASE 9"
   ]
  },
  {
   "cell_type": "code",
   "execution_count": 21,
   "metadata": {},
   "outputs": [
    {
     "name": "stdout",
     "output_type": "stream",
     "text": [
      "Enter: \n",
      "Hello world!\n",
      "UPPER CASE 1 LOWER CASE 9\n"
     ]
    }
   ],
   "source": [
    "def solution_14():\n",
    "    sentence = input(\"Enter: \\n\")\n",
    "    d = {\"LETTERS\":0, \"DIGITS\":0}\n",
    "    for s in sentence:\n",
    "        if s.isupper():\n",
    "            d[\"LETTERS\"] += 1\n",
    "        if s.islower():\n",
    "            d[\"DIGITS\"] += 1\n",
    "        else:\n",
    "            pass\n",
    "    print(\"UPPER CASE %d LOWER CASE %d\" % (d[\"LETTERS\"], d[\"DIGITS\"]))\n",
    "solution_14()"
   ]
  },
  {
   "cell_type": "markdown",
   "metadata": {},
   "source": [
    "### Question 15\n",
    "\n",
    "Level 2\n",
    "\n",
    "Question:\n",
    "Write a program that computes the value of a+aa+aaa+aaaa with a given digit as the value of a.\n",
    "Suppose the following input is supplied to the program:\n",
    "9\n",
    "Then, the output should be:\n",
    "11106"
   ]
  },
  {
   "cell_type": "code",
   "execution_count": 1,
   "metadata": {},
   "outputs": [
    {
     "name": "stdout",
     "output_type": "stream",
     "text": [
      "number: 9\n"
     ]
    },
    {
     "data": {
      "text/plain": [
       "11106"
      ]
     },
     "execution_count": 1,
     "metadata": {},
     "output_type": "execute_result"
    }
   ],
   "source": [
    "def helper(x):\n",
    "    return x + x*11 + x*111 + x*1111\n",
    "a = int(input(\"number: \"))\n",
    "helper(a)"
   ]
  },
  {
   "cell_type": "markdown",
   "metadata": {},
   "source": [
    "### Question 16\n",
    "\n",
    "Level 2\n",
    "\n",
    "Question:\n",
    "Use a list comprehension to square each odd number in a list. The list is input by a sequence of comma-separated numbers.\n",
    "Suppose the following input is supplied to the program:\n",
    "1,2,3,4,5,6,7,8,9\n",
    "Then, the output should be:\n",
    "1,3,5,7,9"
   ]
  },
  {
   "cell_type": "code",
   "execution_count": 4,
   "metadata": {},
   "outputs": [
    {
     "name": "stdout",
     "output_type": "stream",
     "text": [
      "Enter number: 1,2,3,4,5,6,7,8,9\n",
      "[1, 3, 5, 7, 9]\n",
      "1,3,5,7,9\n"
     ]
    }
   ],
   "source": [
    "sequence = input(\"Enter number: \")\n",
    "nums = [int(x) for x in sequence.split(\",\")]\n",
    "ans = []\n",
    "for n in nums:\n",
    "    if n%2 != 0:\n",
    "        ans.append(n)\n",
    "print(ans)\n",
    "\n",
    "results = [x for x in sequence.split(\",\") if int(x)%2!=0]\n",
    "print(\",\".join(results))"
   ]
  },
  {
   "cell_type": "markdown",
   "metadata": {},
   "source": [
    "### Question 17\n",
    "\n",
    "Level 2\n",
    "\n",
    "Question:\n",
    "Write a program that computes the net amount of a bank account based a transaction log from console input. The transaction log format is shown as following:\n",
    "D 100\n",
    "W 200\n",
    "\n",
    "D means deposit while W means withdrawal.\n",
    "Suppose the following input is supplied to the program:\n",
    "D 300\n",
    "D 300\n",
    "W 200\n",
    "D 100\n",
    "Then, the output should be:\n",
    "500"
   ]
  },
  {
   "cell_type": "code",
   "execution_count": 6,
   "metadata": {},
   "outputs": [
    {
     "name": "stdout",
     "output_type": "stream",
     "text": [
      "Operation(q for quit): D 300\n",
      "Operation(q for quit): D 300\n",
      "Operation(q for quit): W 200\n",
      "Operation(q for quit): D 100\n",
      "Operation(q for quit): \n",
      "500\n"
     ]
    }
   ],
   "source": [
    "total, flag = 0, True\n",
    "while flag:\n",
    "    behave = input(\"Operation(q for quit): \")\n",
    "    if not behave:\n",
    "        break\n",
    "    behave = behave.split(\" \")\n",
    "    op = behave[0]\n",
    "    money = behave[1]\n",
    "    if op == \"D\":\n",
    "        total += int(money)\n",
    "    elif op==\"W\":\n",
    "        total -= int(money)\n",
    "    else:\n",
    "        pass\n",
    "print(total)"
   ]
  },
  {
   "cell_type": "markdown",
   "metadata": {},
   "source": [
    "### Question 18\n",
    "\n",
    "Level 3\n",
    "\n",
    "Question:\n",
    "A website requires the users to input username and password to register. Write a program to check the validity of password input by users.\n",
    "Following are the criteria for checking the password:\n",
    "\n",
    "1. At least 1 letter between [a-z]\n",
    "2. At least 1 number between [0-9]\n",
    "3. At least 1 letter between [A-Z]\n",
    "4. At least 1 character from [$#@]\n",
    "5. Minimum length of transaction password: 6\n",
    "6. Maximum length of transaction password: 12\n",
    "   Your program should accept a sequence of comma separated passwords and will check them according to the above criteria. Passwords that match the criteria are to be printed, each separated by a comma.\n",
    "   Example\n",
    "   If the following passwords are given as input to the program:\n",
    "   ABd1234@1,a F1#,2w3E*,2We3345\n",
    "   Then, the output of the program should be:\n",
    "   ABd1234@1\n",
    "\n",
    "Hints:\n",
    "In case of input data being supplied to the question, it should be assumed to be a console input."
   ]
  },
  {
   "cell_type": "code",
   "execution_count": 11,
   "metadata": {},
   "outputs": [
    {
     "name": "stdout",
     "output_type": "stream",
     "text": [
      "ABd1234@1,a F1#,2w3E*,2We3345\n",
      "ABd1234@1\n"
     ]
    }
   ],
   "source": [
    "import re\n",
    "value = []\n",
    "items=[x for x in input().split(',')]\n",
    "for p in items:\n",
    "    if len(p)<6 or len(p)>12:\n",
    "        continue\n",
    "    else:\n",
    "        pass\n",
    "    if not re.search(\"[a-z]\",p):\n",
    "        continue\n",
    "    elif not re.search(\"[0-9]\",p):\n",
    "        continue\n",
    "    elif not re.search(\"[A-Z]\",p):\n",
    "        continue\n",
    "    elif not re.search(\"[$#@]\",p):\n",
    "        continue\n",
    "    elif re.search(\"\\s\",p):\n",
    "        continue\n",
    "    else:\n",
    "        pass\n",
    "    value.append(p)\n",
    "print(\",\".join(value))"
   ]
  },
  {
   "cell_type": "markdown",
   "metadata": {},
   "source": [
    "### Question 19\n",
    "\n",
    "Level 3\n",
    "\n",
    "Question:\n",
    "You are required to write a program to sort the (name, age, height) tuples by ascending order where name is string, age and height are numbers. The tuples are input by console. The sort criteria is:\n",
    "1: Sort based on name;\n",
    "2: Then sort based on age;\n",
    "3: Then sort by score.\n",
    "The priority is that name > age > score.\n",
    "If the following tuples are given as input to the program:\n",
    "Tom,19,80\n",
    "John,20,90\n",
    "Jony,17,91\n",
    "Jony,17,93\n",
    "Json,21,85\n",
    "Then, the output of the program should be:\n",
    "[('John', '20', '90'), ('Jony', '17', '91'), ('Jony', '17', '93'), ('Json', '21', '85'), ('Tom', '19', '80')]\n",
    "\n",
    "Hints:\n",
    "In case of input data being supplied to the question, it should be assumed to be a console input.\n",
    "We use itemgetter to enable multiple sort keys."
   ]
  },
  {
   "cell_type": "code",
   "execution_count": 16,
   "metadata": {
    "scrolled": true
   },
   "outputs": [
    {
     "name": "stdout",
     "output_type": "stream",
     "text": [
      "'John', '20', '90'), ('Jony', '17', '91'), ('Jony', '17', '93'), ('Json', '21', '85'), ('Tom', '19', '80'\n",
      "\n",
      "[(\"'John'\", \" '20'\", \" '90')\", \" ('Jony'\", \" '17'\", \" '91')\", \" ('Jony'\", \" '17'\", \" '93')\", \" ('Json'\", \" '21'\", \" '85')\", \" ('Tom'\", \" '19'\", \" '80'\")]\n"
     ]
    }
   ],
   "source": [
    "l = []\n",
    "while True:\n",
    "    s = input()\n",
    "    if not s:\n",
    "        break\n",
    "    l.append(tuple(s.split(\",\")))\n",
    "\n",
    "print(sorted(l))"
   ]
  },
  {
   "cell_type": "markdown",
   "metadata": {},
   "source": [
    "### Question 20\n",
    "\n",
    "Level 3\n",
    "\n",
    "Question:\n",
    "Define a class with a generator which can iterate the numbers, which are divisible by 7, between a given range 0 and n.\n",
    "\n",
    "Hints:\n",
    "Consider use yield"
   ]
  },
  {
   "cell_type": "code",
   "execution_count": 22,
   "metadata": {},
   "outputs": [
    {
     "name": "stdout",
     "output_type": "stream",
     "text": [
      "0\n",
      "7\n",
      "14\n",
      "21\n",
      "28\n",
      "35\n",
      "42\n",
      "49\n",
      "56\n",
      "63\n",
      "70\n",
      "77\n",
      "84\n",
      "91\n",
      "98\n"
     ]
    }
   ],
   "source": [
    "def number_generator(n):\n",
    "    i = 0\n",
    "    while i<n:\n",
    "        j = i\n",
    "        i = i+1\n",
    "        if j%7 == 0:\n",
    "            yield j\n",
    "n = number_generator(100)\n",
    "for i in n:\n",
    "    print(i)"
   ]
  },
  {
   "cell_type": "code",
   "execution_count": null,
   "metadata": {},
   "outputs": [],
   "source": []
  }
 ],
 "metadata": {
  "kernelspec": {
   "display_name": "Python 3",
   "language": "python",
   "name": "python3"
  },
  "language_info": {
   "codemirror_mode": {
    "name": "ipython",
    "version": 3
   },
   "file_extension": ".py",
   "mimetype": "text/x-python",
   "name": "python",
   "nbconvert_exporter": "python",
   "pygments_lexer": "ipython3",
   "version": "3.7.3"
  }
 },
 "nbformat": 4,
 "nbformat_minor": 2
}
