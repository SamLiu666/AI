{
 "cells": [
  {
   "cell_type": "code",
   "execution_count": 44,
   "metadata": {},
   "outputs": [
    {
     "name": "stderr",
     "output_type": "stream",
     "text": [
      "UsageError: Line magic function `%` not found.\n"
     ]
    }
   ],
   "source": [
    "import os\n",
    "import warnings\n",
    "import numpy as np\n",
    "import matplotlib.pyplot as plt\n",
    "import seaborn as sns\n",
    "from mnist import MNIST\n",
    "import tensorflow as tf\n",
    "\n",
    "warnings.simplefilter('ignore')\n",
    "% matplotlib inline"
   ]
  },
  {
   "cell_type": "code",
   "execution_count": 45,
   "metadata": {},
   "outputs": [],
   "source": [
    "import tensorflow.keras as keras"
   ]
  },
  {
   "cell_type": "code",
   "execution_count": 46,
   "metadata": {},
   "outputs": [],
   "source": [
    "# path_to_data = os.path(r\"D:\\Anaconda\\envs\\tensorflow2.0\\lib\\site-packages\\mnist\")\n",
    "# mnist = MNIST(path_to_data)\n",
    "\n",
    "(x_train, y_train), (x_test, y_test)  =  keras.datasets.mnist.load_data()\n",
    "\n",
    "x_train = np.array(x_train)\n",
    "y_train = np.array(y_train)\n",
    "x_test = np.array(x_test)\n",
    "y_test = np.array(y_test)"
   ]
  },
  {
   "cell_type": "code",
   "execution_count": 47,
   "metadata": {},
   "outputs": [
    {
     "data": {
      "text/plain": [
       "((60000, 28, 28), (10000, 28, 28), (60000,), 5)"
      ]
     },
     "execution_count": 47,
     "metadata": {},
     "output_type": "execute_result"
    }
   ],
   "source": [
    "x_train.shape,  x_test.shape, y_train.shape, y_train[0]"
   ]
  },
  {
   "cell_type": "code",
   "execution_count": 20,
   "metadata": {},
   "outputs": [
    {
     "data": {
      "image/png": "[encoded data removed]",
      "text/plain": [
       "<Figure size 432x432 with 4 Axes>"
      ]
     },
     "metadata": {
      "needs_background": "light"
     },
     "output_type": "display_data"
    }
   ],
   "source": [
    "fig = plt.figure(figsize=(6,6))\n",
    "\n",
    "for i in range(4):\n",
    "    ax = fig.add_subplot(2, 2, i + 1)\n",
    "    ax.imshow(np.reshape(x_train[i], (28, 28)), cmap='gray')"
   ]
  },
  {
   "cell_type": "code",
   "execution_count": 22,
   "metadata": {},
   "outputs": [
    {
     "name": "stdout",
     "output_type": "stream",
     "text": [
      "Training set shape: (60000, 28, 28)\n",
      "Training labels shape: (60000, 10)\n",
      "Test set shape: (10000, 28, 28)\n",
      "Test set shape: (10000, 10)\n"
     ]
    }
   ],
   "source": [
    "# Creating one-hot encoded labels\n",
    "n_train_samples = x_train.shape[0]\n",
    "n_test_samples = x_test.shape[0]\n",
    "n_classes = 10\n",
    "\n",
    "y_train_one_hot = np.zeros((n_train_samples, n_classes))\n",
    "y_train_one_hot[np.arange(n_train_samples), y_train] = 1\n",
    "\n",
    "y_test_one_hot = np.zeros((n_test_samples, n_classes))\n",
    "y_test_one_hot[np.arange(n_test_samples), y_test] = 1\n",
    "\n",
    "print(f\"Training set shape: {x_train.shape}\")\n",
    "print(f\"Training labels shape: {y_train_one_hot.shape}\")\n",
    "\n",
    "print(f\"Test set shape: {x_test.shape}\")\n",
    "print(f\"Test set shape: {y_test_one_hot.shape}\")"
   ]
  },
  {
   "cell_type": "code",
   "execution_count": 25,
   "metadata": {},
   "outputs": [
    {
     "data": {
      "text/plain": [
       "(array([0., 0., 0., 0., 0., 1., 0., 0., 0., 0.]), (28, 28))"
      ]
     },
     "execution_count": 25,
     "metadata": {},
     "output_type": "execute_result"
    }
   ],
   "source": [
    "y_train_one_hot[0], x_train[0].shape"
   ]
  },
  {
   "cell_type": "markdown",
   "metadata": {},
   "source": [
    "# CNN layer"
   ]
  },
  {
   "cell_type": "code",
   "execution_count": 27,
   "metadata": {},
   "outputs": [],
   "source": [
    "height = width = 28\n",
    "n_channels = 1\n",
    "batch_size = 100\n",
    "lr = 0.001\n",
    "n_epochs = 5\n",
    "\n",
    "n_train_batches = n_train_samples // batch_size\n",
    "n_test_batches = n_test_samples // batch_size"
   ]
  },
  {
   "cell_type": "code",
   "execution_count": 48,
   "metadata": {},
   "outputs": [],
   "source": [
    "# # Placeholders for input batches and targets\n",
    "# X_placeholder = tf.placeholder(tf.float32, [None, height * width])\n",
    "# y_placeholder = tf.placeholder(tf.float32, [None, n_classes])\n",
    "# training = tf.placeholder(tf.bool)\n",
    "\n",
    "# input_layer = tf.reshape(X_placeholder, shape=[-1, height, width, n_channels])\n",
    "\n",
    "# First convolutional layer\n",
    "# output shape: (batch_size, 28, 28, 32)\n",
    "# conv1 = tf.layers.conv2d(\n",
    "#             inputs=input_layer,\n",
    "#             filters=32,\n",
    "#             kernel_size=[5, 5],\n",
    "#             padding=\"same\",\n",
    "#             activation=tf.nn.relu)\n",
    "\n",
    "# # First pooling layer\n",
    "# # output shape: (batch_size, 14, 14, 32)\n",
    "# pool1 = tf.layers.max_pooling2d(\n",
    "#             inputs=conv1,\n",
    "#             pool_size=[2, 2],\n",
    "#             strides=2)\n",
    "\n",
    "# # Second convolutional layer\n",
    "# # output shape: (batch_size, 14, 14, 64)    \n",
    "# conv2 = tf.layers.conv2d(\n",
    "#             inputs=pool1,\n",
    "#             filters=64,\n",
    "#             kernel_size=[5, 5],\n",
    "#             padding=\"same\",\n",
    "#             activation=tf.nn.relu)\n",
    "\n",
    "# # Second pooling layer \n",
    "# # output shape: (batch_size, 7, 7, 64)    \n",
    "# pool2 = tf.layers.max_pooling2d(\n",
    "#             inputs=conv2,\n",
    "#             pool_size=[2, 2],\n",
    "#             strides=2)\n",
    "\n",
    "# # We need to reshape the output of pool2 to fit the fully connected layer\n",
    "# pool2_flat = tf.reshape(pool2, [-1, 7 * 7 * 64])\n",
    "\n",
    "# # Fully connected layer    \n",
    "# fully_connected = tf.layers.dense(\n",
    "#                     inputs=pool2_flat,\n",
    "#                     units=1024,\n",
    "#                     activation=tf.nn.relu)\n",
    "\n",
    "# # Dropout layer for regularization\n",
    "# dropout = tf.layers.dropout(\n",
    "#             inputs=fully_connected,\n",
    "#             rate=0.4,\n",
    "#             training=training)\n",
    "\n",
    "# # Logits (unnormalized probabilities)\n",
    "# logits = tf.layers.dense(\n",
    "#             inputs=dropout,\n",
    "#             units=n_classes)\n",
    "\n",
    "# # Loss function\n",
    "# loss = tf.reduce_mean(\n",
    "#             tf.nn.softmax_cross_entropy_with_logits_v2(\n",
    "#                             logits=logits,\n",
    "#                             labels=y_placeholder))\n",
    "\n",
    "# # Optimizer and train step\n",
    "# optimizer = tf.train.AdamOptimizer(learning_rate=lr)\n",
    "# train_step = optimizer.minimize(loss)\n",
    "\n",
    "# # Accuracy\n",
    "# correct_prediction = tf.equal(tf.argmax(logits,1), tf.argmax(y_placeholder,1))\n",
    "# accuracy = tf.reduce_mean(tf.cast(correct_prediction, tf.float32))\n",
    "\n",
    "\n",
    "from tensorflow.keras import models\n",
    "from tensorflow.keras.layers import Conv2D, MaxPooling2D, Flatten, Dense, Reshape\n",
    "\n",
    "def Model():\n",
    "    model = models.Sequential()\n",
    "    model.add(Reshape((28, 28, 1), input_shape=(28, 28)))\n",
    "    \n",
    "    model.add(Conv2D(32, (3, 3), activation='relu'))\n",
    "    model.add(MaxPooling2D((2, 2)))\n",
    "    \n",
    "    model.add(Conv2D(64, (3, 3), activation='relu'))\n",
    "    model.add(MaxPooling2D((2, 2)))\n",
    "#     model.add(Conv2D(64, (3, 3), activation='relu'))   # 去掉效果更好\n",
    "\n",
    "    \n",
    "    model.add(Flatten())\n",
    "    model.add(Dense(64, activation='relu'))\n",
    "    model.add(Dense(10, activation='softmax'))\n",
    "    return model\n"
   ]
  },
  {
   "cell_type": "code",
   "execution_count": 49,
   "metadata": {},
   "outputs": [
    {
     "name": "stdout",
     "output_type": "stream",
     "text": [
      "Model: \"sequential_6\"\n",
      "_________________________________________________________________\n",
      "Layer (type)                 Output Shape              Param #   \n",
      "=================================================================\n",
      "reshape_6 (Reshape)          (None, 28, 28, 1)         0         \n",
      "_________________________________________________________________\n",
      "conv2d_14 (Conv2D)           (None, 26, 26, 32)        320       \n",
      "_________________________________________________________________\n",
      "max_pooling2d_12 (MaxPooling (None, 13, 13, 32)        0         \n",
      "_________________________________________________________________\n",
      "conv2d_15 (Conv2D)           (None, 11, 11, 64)        18496     \n",
      "_________________________________________________________________\n",
      "max_pooling2d_13 (MaxPooling (None, 5, 5, 64)          0         \n",
      "_________________________________________________________________\n",
      "flatten_6 (Flatten)          (None, 1600)              0         \n",
      "_________________________________________________________________\n",
      "dense_12 (Dense)             (None, 64)                102464    \n",
      "_________________________________________________________________\n",
      "dense_13 (Dense)             (None, 10)                650       \n",
      "=================================================================\n",
      "Total params: 121,930\n",
      "Trainable params: 121,930\n",
      "Non-trainable params: 0\n",
      "_________________________________________________________________\n"
     ]
    }
   ],
   "source": [
    "model = Model()\n",
    "model.summary()"
   ]
  },
  {
   "cell_type": "code",
   "execution_count": 50,
   "metadata": {},
   "outputs": [
    {
     "name": "stdout",
     "output_type": "stream",
     "text": [
      "Train on 60000 samples\n",
      "Epoch 1/5\n",
      "60000/60000 [==============================] - 3s 48us/sample - loss: 0.8500 - accuracy: 0.9030\n",
      "Epoch 2/5\n",
      "60000/60000 [==============================] - 3s 44us/sample - loss: 0.0642 - accuracy: 0.9808\n",
      "Epoch 3/5\n",
      "60000/60000 [==============================] - 3s 46us/sample - loss: 0.0396 - accuracy: 0.9877\n",
      "Epoch 4/5\n",
      "60000/60000 [==============================] - 3s 44us/sample - loss: 0.0332 - accuracy: 0.9897\n",
      "Epoch 5/5\n",
      "60000/60000 [==============================] - 3s 45us/sample - loss: 0.0241 - accuracy: 0.9921\n",
      "10000/10000 [==============================] - 1s 51us/sample - loss: 0.0517 - accuracy: 0.9856\n",
      "0.9856\n"
     ]
    }
   ],
   "source": [
    "model.compile(optimizer='adam', loss='sparse_categorical_crossentropy', metrics=['accuracy'])\n",
    "model.fit(x_train,\n",
    "          y_train,\n",
    "          batch_size=128,\n",
    "          epochs=5)\n",
    "\n",
    "\n",
    "test_loss, test_acc = model.evaluate(x_test, y_test)\n",
    "print(test_acc)"
   ]
  },
  {
   "cell_type": "markdown",
   "metadata": {},
   "source": [
    "# model 2"
   ]
  },
  {
   "cell_type": "code",
   "execution_count": 66,
   "metadata": {},
   "outputs": [
    {
     "name": "stdout",
     "output_type": "stream",
     "text": [
      "Model: \"sequential_11\"\n",
      "_________________________________________________________________\n",
      "Layer (type)                 Output Shape              Param #   \n",
      "=================================================================\n",
      "reshape_11 (Reshape)         (None, 28, 28, 1)         0         \n",
      "_________________________________________________________________\n",
      "conv2d_23 (Conv2D)           (None, 24, 24, 32)        832       \n",
      "_________________________________________________________________\n",
      "max_pooling2d_21 (MaxPooling (None, 12, 12, 32)        0         \n",
      "_________________________________________________________________\n",
      "conv2d_24 (Conv2D)           (None, 8, 8, 64)          51264     \n",
      "_________________________________________________________________\n",
      "max_pooling2d_22 (MaxPooling (None, 4, 4, 64)          0         \n",
      "_________________________________________________________________\n",
      "flatten_11 (Flatten)         (None, 1024)              0         \n",
      "_________________________________________________________________\n",
      "dense_22 (Dense)             (None, 64)                65600     \n",
      "_________________________________________________________________\n",
      "dense_23 (Dense)             (None, 10)                650       \n",
      "=================================================================\n",
      "Total params: 118,346\n",
      "Trainable params: 118,346\n",
      "Non-trainable params: 0\n",
      "_________________________________________________________________\n"
     ]
    }
   ],
   "source": [
    "(x_train, y_train), (x_test, y_test) = keras.datasets.mnist.load_data()\n",
    "\n",
    "x_train = x_train.reshape((60000, 28, 28, 1))\n",
    "x_test = x_test.reshape((10000, 28, 28, 1))\n",
    "\n",
    "# 特征缩放[0, 1]区间 \n",
    "x_train, x_test = x_train / 255.0, x_test / 255.0\n",
    "\n",
    "def Model():\n",
    "    model = models.Sequential()\n",
    "    model.add(Reshape((28, 28, 1), input_shape=(28, 28,1)))\n",
    "    \n",
    "    model.add(Conv2D(32, (5, 5), activation='relu'))\n",
    "    model.add(MaxPooling2D((2, 2)))\n",
    "    \n",
    "    model.add(Conv2D(64, (5, 5), activation='relu'))\n",
    "    model.add(MaxPooling2D((2, 2)))\n",
    "    \n",
    "    model.add(Flatten())\n",
    "    \n",
    "    model.add(Dense(64, activation='relu'))\n",
    "    model.add(Dense(10, activation='softmax'))\n",
    "    return model\n",
    "\n",
    "model = Model()\n",
    "model.summary()"
   ]
  },
  {
   "cell_type": "code",
   "execution_count": 67,
   "metadata": {},
   "outputs": [
    {
     "name": "stdout",
     "output_type": "stream",
     "text": [
      "Train on 60000 samples\n",
      "Epoch 1/5\n",
      "60000/60000 [==============================] - 3s 47us/sample - loss: 0.2112 - accuracy: 0.9394\n",
      "Epoch 2/5\n",
      "60000/60000 [==============================] - 3s 44us/sample - loss: 0.0565 - accuracy: 0.9827\n",
      "Epoch 3/5\n",
      "60000/60000 [==============================] - 3s 45us/sample - loss: 0.0389 - accuracy: 0.9883\n",
      "Epoch 4/5\n",
      "60000/60000 [==============================] - 3s 45us/sample - loss: 0.0288 - accuracy: 0.9912\n",
      "Epoch 5/5\n",
      "60000/60000 [==============================] - 3s 48us/sample - loss: 0.0231 - accuracy: 0.9930\n",
      "10000/10000 [==============================] - 1s 58us/sample - loss: 0.0301 - accuracy: 0.9899\n",
      "0.9899\n"
     ]
    }
   ],
   "source": [
    "model.compile(optimizer='adam', loss='sparse_categorical_crossentropy', metrics=['accuracy'])\n",
    "model.fit(x_train,\n",
    "          y_train,\n",
    "          batch_size=128,\n",
    "          epochs=5)\n",
    "\n",
    "\n",
    "test_loss, test_acc = model.evaluate(x_test, y_test)\n",
    "print(test_acc)"
   ]
  },
  {
   "cell_type": "code",
   "execution_count": 70,
   "metadata": {},
   "outputs": [
    {
     "data": {
      "text/plain": [
       "'sparse_categorical_crossentropy'"
      ]
     },
     "execution_count": 70,
     "metadata": {},
     "output_type": "execute_result"
    }
   ],
   "source": [
    "model.loss[:]"
   ]
  },
  {
   "cell_type": "code",
   "execution_count": null,
   "metadata": {},
   "outputs": [],
   "source": []
  }
 ],
 "metadata": {
  "kernelspec": {
   "display_name": "Python 3",
   "language": "python",
   "name": "python3"
  },
  "language_info": {
   "codemirror_mode": {
    "name": "ipython",
    "version": 3
   },
   "file_extension": ".py",
   "mimetype": "text/x-python",
   "name": "python",
   "nbconvert_exporter": "python",
   "pygments_lexer": "ipython3",
   "version": "3.7.7"
  }
 },
 "nbformat": 4,
 "nbformat_minor": 4
}
