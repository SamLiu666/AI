{
 "cells": [
  {
   "cell_type": "markdown",
   "metadata": {},
   "source": [
    "# 赋值 浅拷贝  深拷贝  "
   ]
  },
  {
   "cell_type": "code",
   "execution_count": 4,
   "metadata": {},
   "outputs": [],
   "source": [
    "import copy\n",
    "a = [1,'a' , [1,2]]\n",
    "b=a  # 赋值\n",
    "c= a.copy()  # 浅拷贝\n",
    "d = copy.deepcopy(a)  # 深拷贝"
   ]
  },
  {
   "cell_type": "code",
   "execution_count": 23,
   "metadata": {},
   "outputs": [
    {
     "name": "stdout",
     "output_type": "stream",
     "text": [
      "a= [1, 'b', [1, 2]] 1767288244232\n",
      "赋值 [1, 'b', [1, 2]] 1767288244232\n",
      "浅拷贝 [1, 'c', [1, 2]] 1767288702344\n",
      "深拷贝 [1, 'a', [1, 2]] 1767288702088\n"
     ]
    }
   ],
   "source": [
    "print('a=', a, id(a))\n",
    "print('赋值', b, id(b))\n",
    "print('浅拷贝', c, id(c))\n",
    "print('深拷贝', d,id(d))"
   ]
  },
  {
   "cell_type": "markdown",
   "metadata": {},
   "source": [
    "1. 赋值\n",
    "b=a: b和a 都指向同一个对象\n",
    "![1](https://www.runoob.com/wp-content/uploads/2017/03/1489720931-7116-4AQC6.png)"
   ]
  },
  {
   "cell_type": "code",
   "execution_count": 30,
   "metadata": {},
   "outputs": [
    {
     "name": "stdout",
     "output_type": "stream",
     "text": [
      "True 1767288244232 1767288244232\n",
      "True\n"
     ]
    }
   ],
   "source": [
    "a[1]='b'\n",
    "b  # b中元素跟随a发生了改变\n",
    "print(a==b, id(a), id(b))\n",
    "print(a is b)  # id也是一致的，指向同一个对象"
   ]
  },
  {
   "cell_type": "markdown",
   "metadata": {},
   "source": [
    "c= a.copy() : 浅拷贝, a 和 b 是对立的对象，但是子对象还是指向同一个对象，引用\n",
    "![浅拷贝](https://www.runoob.com/wp-content/uploads/2017/03/1489720930-6827-Vtk4m.png)"
   ]
  },
  {
   "cell_type": "code",
   "execution_count": 27,
   "metadata": {},
   "outputs": [
    {
     "name": "stdout",
     "output_type": "stream",
     "text": [
      "[1, 'b', [1, 2]] [1, 'c', [1, 2]]\n",
      "1767288244232 1767288702344 [1, 'b', [1, 2]] [1, 'c', [1, 2]]\n",
      "False\n",
      "False\n"
     ]
    }
   ],
   "source": [
    "# a 中的变化不会影响c中变化\n",
    "print(a,c)\n",
    "\n",
    "# c 中变化也不会印象a中变化\n",
    "c[1] = 'c'\n",
    "print(id(a),id(c),a,c)\n",
    "\n",
    "print(a==c)\n",
    "print(a is c)"
   ]
  },
  {
   "cell_type": "markdown",
   "metadata": {},
   "source": [
    "d = copy.deepcopy(a)  ：深拷贝， 两者完全独立\n",
    "![3](https://www.runoob.com/wp-content/uploads/2017/03/1489720930-5882-BO4qO.png)"
   ]
  },
  {
   "cell_type": "code",
   "execution_count": 28,
   "metadata": {},
   "outputs": [
    {
     "name": "stdout",
     "output_type": "stream",
     "text": [
      "False\n"
     ]
    }
   ],
   "source": [
    "a,d\n",
    "print(a==d)"
   ]
  },
  {
   "cell_type": "markdown",
   "metadata": {},
   "source": [
    "# 多继承\n",
    "\n",
    "python中使用多继承，会涉及到查找顺序（MRO）、重复调用（钻石继承，也叫菱形继承问题）等\n",
    "\n",
    "1.1、MRO简介：\n",
    "MRO即方法解析顺序(method resolution order)，用于判断子类调用的属性来自于哪个父类。在Python2.3之前，MRO是基于深度优先算法的，自2.3开始使用C3算法，定义类时需要继承object，这样的类称为新式类，否则为旧式类\n",
    "![4](https://img-blog.csdn.net/20180227102404224)"
   ]
  },
  {
   "cell_type": "markdown",
   "metadata": {},
   "source": [
    "从图中可以看出，旧式类查找属性时是深度优先搜索，新式类则是广度优先搜索"
   ]
  },
  {
   "cell_type": "markdown",
   "metadata": {},
   "source": [
    "本地优先级：指声明时父类的顺序，比如C(A,B)，如果访问C类对象属性时，应该根据声明顺序，优先查找A类，然后再查找B类。\n",
    "单调性：如果在C的解析顺序中，A排在B的前面，那么在C的所有子类里，也必须满足这个顺序"
   ]
  },
  {
   "cell_type": "code",
   "execution_count": 32,
   "metadata": {},
   "outputs": [
    {
     "name": "stdout",
     "output_type": "stream",
     "text": [
      "调用顺序  [<class '__main__.C'>, <class '__main__.B'>, <class '__main__.A'>, <class '__main__.X'>, <class 'object'>]\n",
      "b\n",
      "c\n",
      "extral b\n"
     ]
    }
   ],
   "source": [
    "class X(object):\n",
    "    def f(self):\n",
    "        print('x')\n",
    " \n",
    "class A(X):\n",
    "    def f(self):\n",
    "        print ('a')\n",
    "    def extral(self):\n",
    "        print ('extral a')\n",
    " \n",
    "class B(X):\n",
    "    def f(self):\n",
    "        print('b')\n",
    "    def extral(self):\n",
    "        print ('extral b')\n",
    " \n",
    "# class C(A,B,X):  # -> a->c\n",
    "class C(B,A,X):   #  -> b->a\n",
    "    '''\n",
    "    如果是class C(X,B,A):  class C(B,A,X):  则会报如下错误:\n",
    "    TypeError: Error when calling the metaclass bases\n",
    "    Cannot create a consistent method resolution\n",
    "    order (MRO) for bases X, B, A\n",
    "    '''\n",
    "    def f(self):\n",
    "        super(C, self).f()\n",
    "        print ('c')\n",
    " \n",
    " \n",
    "print(\"调用顺序 \", C.mro())\n",
    " \n",
    "c = C()\n",
    "c.f()    # 指声明时父类的顺序，比如C(A,B)，如果访问C类对象属性时，应该根据声明顺序，优先查找A类，然后再查找B类\n",
    "c.extral()  # 指声明时父类的顺序，比如C(A,B)，如果访问C类对象属性时，应该根据声明顺序，优先查找A类，然后再查找B类"
   ]
  },
  {
   "cell_type": "markdown",
   "metadata": {},
   "source": [
    "由结果看出，先搜索其指定的顺序B,A，然后执行完第一个，执行内置的程序"
   ]
  },
  {
   "cell_type": "markdown",
   "metadata": {},
   "source": [
    "## 2 super function\n",
    "2.1 描述\n",
    "\n",
    "super() 函数是用于调用父类(超类)的一个方法。\n",
    "super 是用来解决多重继承问题的，直接用类名调用父类方法在使用单继承的时候没问题，但是如果使用多继承，会涉及到查找顺序（MRO）、重复调用（钻石继承）等种种问题。\n",
    "MRO 就是类的方法解析顺序表, 其实也就是继承父类方法时的顺序表。\n",
    "\n",
    "2.2 语法\n",
    "以下是 super() 方法的语法:\n",
    "super(type[, object-or-type])\n",
    "参数\n",
    "type -- 类。\n",
    "object-or-type -- 类，一般是 self\n",
    "Python3.x 和 Python2.x 的一个区别是: Python 3 可以使用直接使用 super().xxx 代替 super(Class, self).xxx :"
   ]
  },
  {
   "cell_type": "code",
   "execution_count": 34,
   "metadata": {},
   "outputs": [
    {
     "name": "stdout",
     "output_type": "stream",
     "text": [
      "enter B\n",
      "enter A\n",
      "leave A\n",
      "leave B\n"
     ]
    }
   ],
   "source": [
    "# -*- coding: utf-8 -*-\n",
    "# 不使用super函数，而直接使用非绑定函数的例子\n",
    "class A:\n",
    "    def __init__(self):\n",
    "        print (\"enter A\")\n",
    "        print (\"leave A\")\n",
    " \n",
    " \n",
    "class B(A):\n",
    "    def __init__(self):\n",
    "        print (\"enter B\")\n",
    "        A.__init__(self)   # old method\n",
    "        print (\"leave B\")\n",
    " \n",
    "b = B()"
   ]
  },
  {
   "cell_type": "markdown",
   "metadata": {},
   "source": [
    "直接调用A类中的程序"
   ]
  },
  {
   "cell_type": "code",
   "execution_count": 36,
   "metadata": {},
   "outputs": [
    {
     "name": "stdout",
     "output_type": "stream",
     "text": [
      "enter C\n",
      "enter A\n",
      "leave A\n",
      "leave C\n",
      "**********\n",
      "enter B\n",
      "enter C\n",
      "enter A\n",
      "leave A\n",
      "leave C\n",
      "leave B\n"
     ]
    }
   ],
   "source": [
    "# -*- coding: utf-8 -*-\n",
    "# 使用super()函数的例子\n",
    "class A(object):    # A must be new-style class\n",
    "    def __init__(self):\n",
    "        print (\"enter A\")\n",
    "        print (\"leave A\")\n",
    "        \n",
    "class C(A):    # A must be new-style class\n",
    "    def __init__(self):\n",
    "        print (\"enter C\")\n",
    "        super(C,self).__init__()\n",
    "        print (\"leave C\")\n",
    "        \n",
    "class B(C,A):\n",
    "    def __init__(self):\n",
    "        print (\"enter B\")\n",
    "        super(B, self).__init__()  # new method  只适用于新式类，定义形如class A(object)为新式类，形如class A()为经典(老式类)定义\n",
    "        print (\"leave B\")\n",
    "        \n",
    "c=C()\n",
    "print (\"**********\")\n",
    "b = B()  "
   ]
  },
  {
   "cell_type": "markdown",
   "metadata": {},
   "source": [
    "使用MRO算法选择先调用的C类，因为B(C,A)"
   ]
  }
 ],
 "metadata": {
  "kernelspec": {
   "display_name": "Python 3",
   "language": "python",
   "name": "python3"
  },
  "language_info": {
   "codemirror_mode": {
    "name": "ipython",
    "version": 3
   },
   "file_extension": ".py",
   "mimetype": "text/x-python",
   "name": "python",
   "nbconvert_exporter": "python",
   "pygments_lexer": "ipython3",
   "version": "3.7.7"
  }
 },
 "nbformat": 4,
 "nbformat_minor": 4
}
